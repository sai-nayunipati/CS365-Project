{
 "cells": [
  {
   "cell_type": "markdown",
   "id": "33a6ad4a-3ecf-4b0b-9a09-ccb31520feb2",
   "metadata": {},
   "source": [
    "# Predicting Housing Prices In Boston\n",
    "\n",
    "I aim to design a model that accurately predicts housing prices in Boston. This notebook explores techniques such as ordinary least squares, extra trees, and k-nearest neighbors. I use the highly-rated [USA Real Estate Dataset](https://www.kaggle.com/datasets/ahmedshahriarsakib/usa-real-estate-dataset) by Ahmed Shahriar Sakib. This Kaggle dataset was produced by scraping [realtor.com](https://www.realtor.com/) and is regularly updated."
   ]
  },
  {
   "cell_type": "markdown",
   "id": "16bd1f4b-5eb0-47ab-9640-b1eaa13e824e",
   "metadata": {},
   "source": [
    "## 1. Data exploration"
   ]
  },
  {
   "cell_type": "markdown",
   "id": "e2fd92fa-f0d5-414a-ae26-42e1a8ee758e",
   "metadata": {},
   "source": [
    "### 1.1 Loading the data"
   ]
  },
  {
   "cell_type": "code",
   "execution_count": 1,
   "id": "9b9b0dde-88cb-40f6-a9e3-951bb3dc43b7",
   "metadata": {},
   "outputs": [],
   "source": [
    "import numpy as np\n",
    "import pandas as pd\n",
    "import matplotlib.pyplot as plt\n",
    "import scipy.stats as stats"
   ]
  },
  {
   "cell_type": "code",
   "execution_count": 2,
   "id": "f3f30e23-d4bf-48b9-8d05-428fc018f3d8",
   "metadata": {},
   "outputs": [],
   "source": [
    "df = pd.read_csv('C:/Users/saina/Desktop/CS 365 V2/realtor-data.csv')"
   ]
  },
  {
   "cell_type": "markdown",
   "id": "7a3846db-599c-4762-9d04-188571655cd8",
   "metadata": {},
   "source": [
    "### 1.2 Summary statistics"
   ]
  },
  {
   "cell_type": "code",
   "execution_count": 3,
   "id": "7a41e07c-4cee-4ef6-a9e7-1a2371106ba2",
   "metadata": {},
   "outputs": [
    {
     "data": {
      "text/html": [
       "<div>\n",
       "<style scoped>\n",
       "    .dataframe tbody tr th:only-of-type {\n",
       "        vertical-align: middle;\n",
       "    }\n",
       "\n",
       "    .dataframe tbody tr th {\n",
       "        vertical-align: top;\n",
       "    }\n",
       "\n",
       "    .dataframe thead th {\n",
       "        text-align: right;\n",
       "    }\n",
       "</style>\n",
       "<table border=\"1\" class=\"dataframe\">\n",
       "  <thead>\n",
       "    <tr style=\"text-align: right;\">\n",
       "      <th></th>\n",
       "      <th>status</th>\n",
       "      <th>bed</th>\n",
       "      <th>bath</th>\n",
       "      <th>acre_lot</th>\n",
       "      <th>city</th>\n",
       "      <th>state</th>\n",
       "      <th>zip_code</th>\n",
       "      <th>house_size</th>\n",
       "      <th>prev_sold_date</th>\n",
       "      <th>price</th>\n",
       "    </tr>\n",
       "  </thead>\n",
       "  <tbody>\n",
       "    <tr>\n",
       "      <th>0</th>\n",
       "      <td>for_sale</td>\n",
       "      <td>3.0</td>\n",
       "      <td>2.0</td>\n",
       "      <td>0.12</td>\n",
       "      <td>Adjuntas</td>\n",
       "      <td>Puerto Rico</td>\n",
       "      <td>601.0</td>\n",
       "      <td>920.0</td>\n",
       "      <td>NaN</td>\n",
       "      <td>105000.0</td>\n",
       "    </tr>\n",
       "    <tr>\n",
       "      <th>1</th>\n",
       "      <td>for_sale</td>\n",
       "      <td>4.0</td>\n",
       "      <td>2.0</td>\n",
       "      <td>0.08</td>\n",
       "      <td>Adjuntas</td>\n",
       "      <td>Puerto Rico</td>\n",
       "      <td>601.0</td>\n",
       "      <td>1527.0</td>\n",
       "      <td>NaN</td>\n",
       "      <td>80000.0</td>\n",
       "    </tr>\n",
       "    <tr>\n",
       "      <th>2</th>\n",
       "      <td>for_sale</td>\n",
       "      <td>2.0</td>\n",
       "      <td>1.0</td>\n",
       "      <td>0.15</td>\n",
       "      <td>Juana Diaz</td>\n",
       "      <td>Puerto Rico</td>\n",
       "      <td>795.0</td>\n",
       "      <td>748.0</td>\n",
       "      <td>NaN</td>\n",
       "      <td>67000.0</td>\n",
       "    </tr>\n",
       "    <tr>\n",
       "      <th>3</th>\n",
       "      <td>for_sale</td>\n",
       "      <td>4.0</td>\n",
       "      <td>2.0</td>\n",
       "      <td>0.10</td>\n",
       "      <td>Ponce</td>\n",
       "      <td>Puerto Rico</td>\n",
       "      <td>731.0</td>\n",
       "      <td>1800.0</td>\n",
       "      <td>NaN</td>\n",
       "      <td>145000.0</td>\n",
       "    </tr>\n",
       "    <tr>\n",
       "      <th>4</th>\n",
       "      <td>for_sale</td>\n",
       "      <td>6.0</td>\n",
       "      <td>2.0</td>\n",
       "      <td>0.05</td>\n",
       "      <td>Mayaguez</td>\n",
       "      <td>Puerto Rico</td>\n",
       "      <td>680.0</td>\n",
       "      <td>NaN</td>\n",
       "      <td>NaN</td>\n",
       "      <td>65000.0</td>\n",
       "    </tr>\n",
       "    <tr>\n",
       "      <th>5</th>\n",
       "      <td>for_sale</td>\n",
       "      <td>4.0</td>\n",
       "      <td>3.0</td>\n",
       "      <td>0.46</td>\n",
       "      <td>San Sebastian</td>\n",
       "      <td>Puerto Rico</td>\n",
       "      <td>612.0</td>\n",
       "      <td>2520.0</td>\n",
       "      <td>NaN</td>\n",
       "      <td>179000.0</td>\n",
       "    </tr>\n",
       "    <tr>\n",
       "      <th>6</th>\n",
       "      <td>for_sale</td>\n",
       "      <td>3.0</td>\n",
       "      <td>1.0</td>\n",
       "      <td>0.20</td>\n",
       "      <td>Ciales</td>\n",
       "      <td>Puerto Rico</td>\n",
       "      <td>639.0</td>\n",
       "      <td>2040.0</td>\n",
       "      <td>NaN</td>\n",
       "      <td>50000.0</td>\n",
       "    </tr>\n",
       "    <tr>\n",
       "      <th>7</th>\n",
       "      <td>for_sale</td>\n",
       "      <td>3.0</td>\n",
       "      <td>2.0</td>\n",
       "      <td>0.08</td>\n",
       "      <td>Ponce</td>\n",
       "      <td>Puerto Rico</td>\n",
       "      <td>731.0</td>\n",
       "      <td>1050.0</td>\n",
       "      <td>NaN</td>\n",
       "      <td>71600.0</td>\n",
       "    </tr>\n",
       "    <tr>\n",
       "      <th>8</th>\n",
       "      <td>for_sale</td>\n",
       "      <td>2.0</td>\n",
       "      <td>1.0</td>\n",
       "      <td>0.09</td>\n",
       "      <td>Ponce</td>\n",
       "      <td>Puerto Rico</td>\n",
       "      <td>730.0</td>\n",
       "      <td>1092.0</td>\n",
       "      <td>NaN</td>\n",
       "      <td>100000.0</td>\n",
       "    </tr>\n",
       "    <tr>\n",
       "      <th>9</th>\n",
       "      <td>for_sale</td>\n",
       "      <td>5.0</td>\n",
       "      <td>3.0</td>\n",
       "      <td>7.46</td>\n",
       "      <td>Las Marias</td>\n",
       "      <td>Puerto Rico</td>\n",
       "      <td>670.0</td>\n",
       "      <td>5403.0</td>\n",
       "      <td>NaN</td>\n",
       "      <td>300000.0</td>\n",
       "    </tr>\n",
       "  </tbody>\n",
       "</table>\n",
       "</div>"
      ],
      "text/plain": [
       "     status  bed  bath  acre_lot           city        state  zip_code  \\\n",
       "0  for_sale  3.0   2.0      0.12       Adjuntas  Puerto Rico     601.0   \n",
       "1  for_sale  4.0   2.0      0.08       Adjuntas  Puerto Rico     601.0   \n",
       "2  for_sale  2.0   1.0      0.15     Juana Diaz  Puerto Rico     795.0   \n",
       "3  for_sale  4.0   2.0      0.10          Ponce  Puerto Rico     731.0   \n",
       "4  for_sale  6.0   2.0      0.05       Mayaguez  Puerto Rico     680.0   \n",
       "5  for_sale  4.0   3.0      0.46  San Sebastian  Puerto Rico     612.0   \n",
       "6  for_sale  3.0   1.0      0.20         Ciales  Puerto Rico     639.0   \n",
       "7  for_sale  3.0   2.0      0.08          Ponce  Puerto Rico     731.0   \n",
       "8  for_sale  2.0   1.0      0.09          Ponce  Puerto Rico     730.0   \n",
       "9  for_sale  5.0   3.0      7.46     Las Marias  Puerto Rico     670.0   \n",
       "\n",
       "   house_size prev_sold_date     price  \n",
       "0       920.0            NaN  105000.0  \n",
       "1      1527.0            NaN   80000.0  \n",
       "2       748.0            NaN   67000.0  \n",
       "3      1800.0            NaN  145000.0  \n",
       "4         NaN            NaN   65000.0  \n",
       "5      2520.0            NaN  179000.0  \n",
       "6      2040.0            NaN   50000.0  \n",
       "7      1050.0            NaN   71600.0  \n",
       "8      1092.0            NaN  100000.0  \n",
       "9      5403.0            NaN  300000.0  "
      ]
     },
     "execution_count": 3,
     "metadata": {},
     "output_type": "execute_result"
    }
   ],
   "source": [
    "df.head(10)"
   ]
  },
  {
   "cell_type": "code",
   "execution_count": 4,
   "id": "b9681aa0-331e-408d-b759-acefc4453d74",
   "metadata": {},
   "outputs": [
    {
     "data": {
      "text/plain": [
       "(1401066, 10)"
      ]
     },
     "execution_count": 4,
     "metadata": {},
     "output_type": "execute_result"
    }
   ],
   "source": [
    "df.shape"
   ]
  },
  {
   "cell_type": "code",
   "execution_count": 5,
   "id": "942da7fd-6055-49fc-aed9-e2bb4cca1f2a",
   "metadata": {},
   "outputs": [
    {
     "name": "stdout",
     "output_type": "stream",
     "text": [
      "<class 'pandas.core.frame.DataFrame'>\n",
      "RangeIndex: 1401066 entries, 0 to 1401065\n",
      "Data columns (total 10 columns):\n",
      " #   Column          Non-Null Count    Dtype  \n",
      "---  ------          --------------    -----  \n",
      " 0   status          1401066 non-null  object \n",
      " 1   bed             1184538 non-null  float64\n",
      " 2   bath            1206853 non-null  float64\n",
      " 3   acre_lot        1043599 non-null  float64\n",
      " 4   city            1400875 non-null  object \n",
      " 5   state           1401066 non-null  object \n",
      " 6   zip_code        1400587 non-null  float64\n",
      " 7   house_size      950954 non-null   float64\n",
      " 8   prev_sold_date  714773 non-null   object \n",
      " 9   price           1400958 non-null  float64\n",
      "dtypes: float64(6), object(4)\n",
      "memory usage: 106.9+ MB\n"
     ]
    }
   ],
   "source": [
    "df.info()"
   ]
  },
  {
   "cell_type": "code",
   "execution_count": 6,
   "id": "6ca30b2a-1f77-4434-b49c-43cce007bf1e",
   "metadata": {},
   "outputs": [
    {
     "data": {
      "text/html": [
       "<div>\n",
       "<style scoped>\n",
       "    .dataframe tbody tr th:only-of-type {\n",
       "        vertical-align: middle;\n",
       "    }\n",
       "\n",
       "    .dataframe tbody tr th {\n",
       "        vertical-align: top;\n",
       "    }\n",
       "\n",
       "    .dataframe thead th {\n",
       "        text-align: right;\n",
       "    }\n",
       "</style>\n",
       "<table border=\"1\" class=\"dataframe\">\n",
       "  <thead>\n",
       "    <tr style=\"text-align: right;\">\n",
       "      <th></th>\n",
       "      <th>bed</th>\n",
       "      <th>bath</th>\n",
       "      <th>acre_lot</th>\n",
       "      <th>zip_code</th>\n",
       "      <th>house_size</th>\n",
       "      <th>price</th>\n",
       "    </tr>\n",
       "  </thead>\n",
       "  <tbody>\n",
       "    <tr>\n",
       "      <th>count</th>\n",
       "      <td>1.184538e+06</td>\n",
       "      <td>1.206853e+06</td>\n",
       "      <td>1.043599e+06</td>\n",
       "      <td>1.400587e+06</td>\n",
       "      <td>9.509540e+05</td>\n",
       "      <td>1.400958e+06</td>\n",
       "    </tr>\n",
       "    <tr>\n",
       "      <th>mean</th>\n",
       "      <td>3.392347e+00</td>\n",
       "      <td>2.487426e+00</td>\n",
       "      <td>3.215013e+01</td>\n",
       "      <td>8.356641e+03</td>\n",
       "      <td>2.178643e+03</td>\n",
       "      <td>8.186029e+05</td>\n",
       "    </tr>\n",
       "    <tr>\n",
       "      <th>std</th>\n",
       "      <td>2.051858e+00</td>\n",
       "      <td>1.873599e+00</td>\n",
       "      <td>1.249983e+03</td>\n",
       "      <td>4.130465e+03</td>\n",
       "      <td>3.492618e+03</td>\n",
       "      <td>2.683069e+06</td>\n",
       "    </tr>\n",
       "    <tr>\n",
       "      <th>min</th>\n",
       "      <td>1.000000e+00</td>\n",
       "      <td>1.000000e+00</td>\n",
       "      <td>0.000000e+00</td>\n",
       "      <td>6.010000e+02</td>\n",
       "      <td>4.000000e+00</td>\n",
       "      <td>0.000000e+00</td>\n",
       "    </tr>\n",
       "    <tr>\n",
       "      <th>25%</th>\n",
       "      <td>2.000000e+00</td>\n",
       "      <td>2.000000e+00</td>\n",
       "      <td>1.200000e-01</td>\n",
       "      <td>5.652000e+03</td>\n",
       "      <td>1.170000e+03</td>\n",
       "      <td>2.350000e+05</td>\n",
       "    </tr>\n",
       "    <tr>\n",
       "      <th>50%</th>\n",
       "      <td>3.000000e+00</td>\n",
       "      <td>2.000000e+00</td>\n",
       "      <td>3.200000e-01</td>\n",
       "      <td>8.757000e+03</td>\n",
       "      <td>1.700000e+03</td>\n",
       "      <td>4.467770e+05</td>\n",
       "    </tr>\n",
       "    <tr>\n",
       "      <th>75%</th>\n",
       "      <td>4.000000e+00</td>\n",
       "      <td>3.000000e+00</td>\n",
       "      <td>1.340000e+00</td>\n",
       "      <td>1.142600e+04</td>\n",
       "      <td>2.500000e+03</td>\n",
       "      <td>7.950000e+05</td>\n",
       "    </tr>\n",
       "    <tr>\n",
       "      <th>max</th>\n",
       "      <td>1.230000e+02</td>\n",
       "      <td>1.980000e+02</td>\n",
       "      <td>1.000000e+05</td>\n",
       "      <td>9.999900e+04</td>\n",
       "      <td>1.450112e+06</td>\n",
       "      <td>8.750000e+08</td>\n",
       "    </tr>\n",
       "  </tbody>\n",
       "</table>\n",
       "</div>"
      ],
      "text/plain": [
       "                bed          bath      acre_lot      zip_code    house_size  \\\n",
       "count  1.184538e+06  1.206853e+06  1.043599e+06  1.400587e+06  9.509540e+05   \n",
       "mean   3.392347e+00  2.487426e+00  3.215013e+01  8.356641e+03  2.178643e+03   \n",
       "std    2.051858e+00  1.873599e+00  1.249983e+03  4.130465e+03  3.492618e+03   \n",
       "min    1.000000e+00  1.000000e+00  0.000000e+00  6.010000e+02  4.000000e+00   \n",
       "25%    2.000000e+00  2.000000e+00  1.200000e-01  5.652000e+03  1.170000e+03   \n",
       "50%    3.000000e+00  2.000000e+00  3.200000e-01  8.757000e+03  1.700000e+03   \n",
       "75%    4.000000e+00  3.000000e+00  1.340000e+00  1.142600e+04  2.500000e+03   \n",
       "max    1.230000e+02  1.980000e+02  1.000000e+05  9.999900e+04  1.450112e+06   \n",
       "\n",
       "              price  \n",
       "count  1.400958e+06  \n",
       "mean   8.186029e+05  \n",
       "std    2.683069e+06  \n",
       "min    0.000000e+00  \n",
       "25%    2.350000e+05  \n",
       "50%    4.467770e+05  \n",
       "75%    7.950000e+05  \n",
       "max    8.750000e+08  "
      ]
     },
     "execution_count": 6,
     "metadata": {},
     "output_type": "execute_result"
    }
   ],
   "source": [
    "df.describe()"
   ]
  },
  {
   "cell_type": "code",
   "execution_count": 7,
   "id": "659c39b1-21d0-448d-9d8c-3f77b447e81f",
   "metadata": {},
   "outputs": [
    {
     "data": {
      "text/html": [
       "<div>\n",
       "<style scoped>\n",
       "    .dataframe tbody tr th:only-of-type {\n",
       "        vertical-align: middle;\n",
       "    }\n",
       "\n",
       "    .dataframe tbody tr th {\n",
       "        vertical-align: top;\n",
       "    }\n",
       "\n",
       "    .dataframe thead th {\n",
       "        text-align: right;\n",
       "    }\n",
       "</style>\n",
       "<table border=\"1\" class=\"dataframe\">\n",
       "  <thead>\n",
       "    <tr style=\"text-align: right;\">\n",
       "      <th></th>\n",
       "      <th>status</th>\n",
       "      <th>city</th>\n",
       "      <th>state</th>\n",
       "      <th>prev_sold_date</th>\n",
       "    </tr>\n",
       "  </thead>\n",
       "  <tbody>\n",
       "    <tr>\n",
       "      <th>count</th>\n",
       "      <td>1401066</td>\n",
       "      <td>1400875</td>\n",
       "      <td>1401066</td>\n",
       "      <td>714773</td>\n",
       "    </tr>\n",
       "    <tr>\n",
       "      <th>unique</th>\n",
       "      <td>2</td>\n",
       "      <td>3512</td>\n",
       "      <td>19</td>\n",
       "      <td>10319</td>\n",
       "    </tr>\n",
       "    <tr>\n",
       "      <th>top</th>\n",
       "      <td>for_sale</td>\n",
       "      <td>New York City</td>\n",
       "      <td>New York</td>\n",
       "      <td>2022-04-15</td>\n",
       "    </tr>\n",
       "    <tr>\n",
       "      <th>freq</th>\n",
       "      <td>1399134</td>\n",
       "      <td>61299</td>\n",
       "      <td>653061</td>\n",
       "      <td>734</td>\n",
       "    </tr>\n",
       "  </tbody>\n",
       "</table>\n",
       "</div>"
      ],
      "text/plain": [
       "          status           city     state prev_sold_date\n",
       "count    1401066        1400875   1401066         714773\n",
       "unique         2           3512        19          10319\n",
       "top     for_sale  New York City  New York     2022-04-15\n",
       "freq     1399134          61299    653061            734"
      ]
     },
     "execution_count": 7,
     "metadata": {},
     "output_type": "execute_result"
    }
   ],
   "source": [
    "df.describe(include = 'object')"
   ]
  },
  {
   "cell_type": "code",
   "execution_count": 8,
   "id": "682ecbf4-e4c3-48b1-a40f-984792f825bc",
   "metadata": {},
   "outputs": [
    {
     "name": "stdout",
     "output_type": "stream",
     "text": [
      "Found 1249026 duplicated rows (89.15%).\n"
     ]
    }
   ],
   "source": [
    "num_dups = df.duplicated().sum()\n",
    "print(f'Found {num_dups} duplicated rows ({num_dups /len(df)*100:.2f}%).')"
   ]
  },
  {
   "cell_type": "code",
   "execution_count": 9,
   "id": "ae022a52-772f-4f39-bdb6-b55894e570b7",
   "metadata": {},
   "outputs": [
    {
     "name": "stdout",
     "output_type": "stream",
     "text": [
      "Percentage of Missing Data (%)\n"
     ]
    },
    {
     "data": {
      "text/plain": [
       "status             0.00\n",
       "bed               15.45\n",
       "bath              13.86\n",
       "acre_lot          25.51\n",
       "city               0.01\n",
       "state              0.00\n",
       "zip_code           0.03\n",
       "house_size        32.13\n",
       "prev_sold_date    48.98\n",
       "price              0.01\n",
       "dtype: float64"
      ]
     },
     "execution_count": 9,
     "metadata": {},
     "output_type": "execute_result"
    }
   ],
   "source": [
    "percents_missing = round(df.isna().sum()/len(df)*100, 2)\n",
    "print('Percentage of Missing Data (%)')\n",
    "percents_missing"
   ]
  },
  {
   "cell_type": "markdown",
   "id": "19e46c41-c099-4499-bd61-43d6225a2556",
   "metadata": {},
   "source": [
    "### 1.3 Filter the data"
   ]
  },
  {
   "cell_type": "code",
   "execution_count": 10,
   "id": "46932a25-fd07-44a2-b544-ff47cd127dce",
   "metadata": {},
   "outputs": [],
   "source": [
    "df = df[(df['city'] == 'Boston') & (df['state'] == 'Massachusetts')]"
   ]
  },
  {
   "cell_type": "code",
   "execution_count": 11,
   "id": "2aa1c77b-3995-4bc8-b60f-98ae36a80d50",
   "metadata": {},
   "outputs": [
    {
     "data": {
      "text/html": [
       "<div>\n",
       "<style scoped>\n",
       "    .dataframe tbody tr th:only-of-type {\n",
       "        vertical-align: middle;\n",
       "    }\n",
       "\n",
       "    .dataframe tbody tr th {\n",
       "        vertical-align: top;\n",
       "    }\n",
       "\n",
       "    .dataframe thead th {\n",
       "        text-align: right;\n",
       "    }\n",
       "</style>\n",
       "<table border=\"1\" class=\"dataframe\">\n",
       "  <thead>\n",
       "    <tr style=\"text-align: right;\">\n",
       "      <th></th>\n",
       "      <th>status</th>\n",
       "      <th>bed</th>\n",
       "      <th>bath</th>\n",
       "      <th>acre_lot</th>\n",
       "      <th>city</th>\n",
       "      <th>state</th>\n",
       "      <th>zip_code</th>\n",
       "      <th>house_size</th>\n",
       "      <th>prev_sold_date</th>\n",
       "      <th>price</th>\n",
       "    </tr>\n",
       "  </thead>\n",
       "  <tbody>\n",
       "    <tr>\n",
       "      <th>100368</th>\n",
       "      <td>for_sale</td>\n",
       "      <td>1.0</td>\n",
       "      <td>1.0</td>\n",
       "      <td>NaN</td>\n",
       "      <td>Boston</td>\n",
       "      <td>Massachusetts</td>\n",
       "      <td>2132.0</td>\n",
       "      <td>708.0</td>\n",
       "      <td>1988-01-21</td>\n",
       "      <td>329000.0</td>\n",
       "    </tr>\n",
       "    <tr>\n",
       "      <th>100371</th>\n",
       "      <td>for_sale</td>\n",
       "      <td>1.0</td>\n",
       "      <td>1.0</td>\n",
       "      <td>0.02</td>\n",
       "      <td>Boston</td>\n",
       "      <td>Massachusetts</td>\n",
       "      <td>2135.0</td>\n",
       "      <td>688.0</td>\n",
       "      <td>2018-06-01</td>\n",
       "      <td>650000.0</td>\n",
       "    </tr>\n",
       "    <tr>\n",
       "      <th>100372</th>\n",
       "      <td>for_sale</td>\n",
       "      <td>2.0</td>\n",
       "      <td>1.0</td>\n",
       "      <td>0.03</td>\n",
       "      <td>Boston</td>\n",
       "      <td>Massachusetts</td>\n",
       "      <td>2130.0</td>\n",
       "      <td>1250.0</td>\n",
       "      <td>2007-08-30</td>\n",
       "      <td>739000.0</td>\n",
       "    </tr>\n",
       "    <tr>\n",
       "      <th>100373</th>\n",
       "      <td>for_sale</td>\n",
       "      <td>2.0</td>\n",
       "      <td>3.0</td>\n",
       "      <td>NaN</td>\n",
       "      <td>Boston</td>\n",
       "      <td>Massachusetts</td>\n",
       "      <td>2115.0</td>\n",
       "      <td>2226.0</td>\n",
       "      <td>NaN</td>\n",
       "      <td>4495000.0</td>\n",
       "    </tr>\n",
       "    <tr>\n",
       "      <th>100374</th>\n",
       "      <td>for_sale</td>\n",
       "      <td>9.0</td>\n",
       "      <td>3.0</td>\n",
       "      <td>0.09</td>\n",
       "      <td>Boston</td>\n",
       "      <td>Massachusetts</td>\n",
       "      <td>2131.0</td>\n",
       "      <td>3204.0</td>\n",
       "      <td>1998-08-06</td>\n",
       "      <td>1200000.0</td>\n",
       "    </tr>\n",
       "    <tr>\n",
       "      <th>100378</th>\n",
       "      <td>for_sale</td>\n",
       "      <td>3.0</td>\n",
       "      <td>3.0</td>\n",
       "      <td>0.06</td>\n",
       "      <td>Boston</td>\n",
       "      <td>Massachusetts</td>\n",
       "      <td>2130.0</td>\n",
       "      <td>2623.0</td>\n",
       "      <td>NaN</td>\n",
       "      <td>949000.0</td>\n",
       "    </tr>\n",
       "    <tr>\n",
       "      <th>100385</th>\n",
       "      <td>for_sale</td>\n",
       "      <td>NaN</td>\n",
       "      <td>1.0</td>\n",
       "      <td>NaN</td>\n",
       "      <td>Boston</td>\n",
       "      <td>Massachusetts</td>\n",
       "      <td>2135.0</td>\n",
       "      <td>568.0</td>\n",
       "      <td>NaN</td>\n",
       "      <td>560000.0</td>\n",
       "    </tr>\n",
       "    <tr>\n",
       "      <th>100386</th>\n",
       "      <td>for_sale</td>\n",
       "      <td>1.0</td>\n",
       "      <td>1.0</td>\n",
       "      <td>NaN</td>\n",
       "      <td>Boston</td>\n",
       "      <td>Massachusetts</td>\n",
       "      <td>2135.0</td>\n",
       "      <td>854.0</td>\n",
       "      <td>NaN</td>\n",
       "      <td>800000.0</td>\n",
       "    </tr>\n",
       "    <tr>\n",
       "      <th>100387</th>\n",
       "      <td>for_sale</td>\n",
       "      <td>2.0</td>\n",
       "      <td>1.0</td>\n",
       "      <td>NaN</td>\n",
       "      <td>Boston</td>\n",
       "      <td>Massachusetts</td>\n",
       "      <td>2135.0</td>\n",
       "      <td>887.0</td>\n",
       "      <td>NaN</td>\n",
       "      <td>888000.0</td>\n",
       "    </tr>\n",
       "    <tr>\n",
       "      <th>100388</th>\n",
       "      <td>for_sale</td>\n",
       "      <td>2.0</td>\n",
       "      <td>1.0</td>\n",
       "      <td>NaN</td>\n",
       "      <td>Boston</td>\n",
       "      <td>Massachusetts</td>\n",
       "      <td>2118.0</td>\n",
       "      <td>965.0</td>\n",
       "      <td>2021-03-31</td>\n",
       "      <td>1225000.0</td>\n",
       "    </tr>\n",
       "  </tbody>\n",
       "</table>\n",
       "</div>"
      ],
      "text/plain": [
       "          status  bed  bath  acre_lot    city          state  zip_code  \\\n",
       "100368  for_sale  1.0   1.0       NaN  Boston  Massachusetts    2132.0   \n",
       "100371  for_sale  1.0   1.0      0.02  Boston  Massachusetts    2135.0   \n",
       "100372  for_sale  2.0   1.0      0.03  Boston  Massachusetts    2130.0   \n",
       "100373  for_sale  2.0   3.0       NaN  Boston  Massachusetts    2115.0   \n",
       "100374  for_sale  9.0   3.0      0.09  Boston  Massachusetts    2131.0   \n",
       "100378  for_sale  3.0   3.0      0.06  Boston  Massachusetts    2130.0   \n",
       "100385  for_sale  NaN   1.0       NaN  Boston  Massachusetts    2135.0   \n",
       "100386  for_sale  1.0   1.0       NaN  Boston  Massachusetts    2135.0   \n",
       "100387  for_sale  2.0   1.0       NaN  Boston  Massachusetts    2135.0   \n",
       "100388  for_sale  2.0   1.0       NaN  Boston  Massachusetts    2118.0   \n",
       "\n",
       "        house_size prev_sold_date      price  \n",
       "100368       708.0     1988-01-21   329000.0  \n",
       "100371       688.0     2018-06-01   650000.0  \n",
       "100372      1250.0     2007-08-30   739000.0  \n",
       "100373      2226.0            NaN  4495000.0  \n",
       "100374      3204.0     1998-08-06  1200000.0  \n",
       "100378      2623.0            NaN   949000.0  \n",
       "100385       568.0            NaN   560000.0  \n",
       "100386       854.0            NaN   800000.0  \n",
       "100387       887.0            NaN   888000.0  \n",
       "100388       965.0     2021-03-31  1225000.0  "
      ]
     },
     "execution_count": 11,
     "metadata": {},
     "output_type": "execute_result"
    }
   ],
   "source": [
    "df.head(10)"
   ]
  },
  {
   "cell_type": "code",
   "execution_count": 12,
   "id": "5468428d-ca52-4803-81c1-3fef7d90f53a",
   "metadata": {},
   "outputs": [
    {
     "data": {
      "text/plain": [
       "(31502, 10)"
      ]
     },
     "execution_count": 12,
     "metadata": {},
     "output_type": "execute_result"
    }
   ],
   "source": [
    "df.shape"
   ]
  },
  {
   "cell_type": "code",
   "execution_count": 13,
   "id": "559f63e5-b14a-4387-9b9c-14ad0f0317d2",
   "metadata": {},
   "outputs": [
    {
     "name": "stdout",
     "output_type": "stream",
     "text": [
      "Found 30274 duplicated rows (96.10%).\n"
     ]
    }
   ],
   "source": [
    "num_dups = df.duplicated().sum()\n",
    "print(f'Found {num_dups} duplicated rows ({num_dups /len(df)*100:.2f}%).')"
   ]
  },
  {
   "cell_type": "code",
   "execution_count": 14,
   "id": "11a02e91-dfc6-4e7a-a536-75b18ee35ef7",
   "metadata": {},
   "outputs": [
    {
     "name": "stdout",
     "output_type": "stream",
     "text": [
      "Percentage of Missing Data (%)\n"
     ]
    },
    {
     "data": {
      "text/plain": [
       "status             0.00\n",
       "bed                5.00\n",
       "bath               1.83\n",
       "acre_lot          55.05\n",
       "city               0.00\n",
       "state              0.00\n",
       "zip_code           0.00\n",
       "house_size         1.40\n",
       "prev_sold_date    60.29\n",
       "price              0.00\n",
       "dtype: float64"
      ]
     },
     "execution_count": 14,
     "metadata": {},
     "output_type": "execute_result"
    }
   ],
   "source": [
    "percents_missing = round(df.isna().sum()/len(df)*100, 2)\n",
    "print('Percentage of Missing Data (%)')\n",
    "percents_missing"
   ]
  },
  {
   "cell_type": "markdown",
   "id": "0934d2d6-25a0-4d79-b446-81b2313e0434",
   "metadata": {},
   "source": [
    "### 1.4 Dropping rows\n",
    "\n",
    "One of the dataset's shortcomings is that it contains duplicate entries. The creator explains that his data collection process can resample the same property if it has been listed for the long time. This is problematic because overpriced homes tend to stay on the market for longer, and so they are likely overrepresented in this dataset. There is no way for us to identify which properties are unique. Thus, the simplest solution is to drop all duplicates."
   ]
  },
  {
   "cell_type": "code",
   "execution_count": 15,
   "id": "9978602f-0c0d-4b02-be1f-7d04bb8e99ae",
   "metadata": {},
   "outputs": [
    {
     "data": {
      "text/plain": [
       "(1228, 10)"
      ]
     },
     "execution_count": 15,
     "metadata": {},
     "output_type": "execute_result"
    }
   ],
   "source": [
    "df = df.drop_duplicates()\n",
    "df.shape"
   ]
  },
  {
   "cell_type": "code",
   "execution_count": 16,
   "id": "6c49f452-6d2d-472e-87cd-fdd740e5fb57",
   "metadata": {},
   "outputs": [
    {
     "name": "stdout",
     "output_type": "stream",
     "text": [
      "Percentage of Missing Data (%)\n"
     ]
    },
    {
     "data": {
      "text/plain": [
       "status             0.000000\n",
       "bed                5.048860\n",
       "bath               1.791531\n",
       "acre_lot          55.700326\n",
       "city               0.000000\n",
       "state              0.000000\n",
       "zip_code           0.000000\n",
       "house_size         1.384365\n",
       "prev_sold_date    60.830619\n",
       "price              0.000000\n",
       "dtype: float64"
      ]
     },
     "execution_count": 16,
     "metadata": {},
     "output_type": "execute_result"
    }
   ],
   "source": [
    "total_missing = df.isna().sum()*100/len(df)\n",
    "print('Percentage of Missing Data (%)')\n",
    "total_missing"
   ]
  },
  {
   "cell_type": "markdown",
   "id": "1ab9bda7-d025-4a8c-b839-d514e56ca1f0",
   "metadata": {},
   "source": [
    "I am regressing over the number of bedrooms, bathrooms, and house size. This means data imputation is superfluous because the vast majority of rows are complete, which means that dropping incomplete rows is the most straightforward approach."
   ]
  },
  {
   "cell_type": "code",
   "execution_count": 17,
   "id": "e444c091-88fb-4f3c-b30e-475c399fb111",
   "metadata": {},
   "outputs": [
    {
     "data": {
      "text/plain": [
       "(1166, 10)"
      ]
     },
     "execution_count": 17,
     "metadata": {},
     "output_type": "execute_result"
    }
   ],
   "source": [
    "df = df.dropna(subset=['bed', 'bath', 'house_size'])\n",
    "df.shape"
   ]
  },
  {
   "cell_type": "code",
   "execution_count": 18,
   "id": "778da701-27c3-40bd-9eef-877f6cb42c64",
   "metadata": {},
   "outputs": [
    {
     "data": {
      "text/html": [
       "<div>\n",
       "<style scoped>\n",
       "    .dataframe tbody tr th:only-of-type {\n",
       "        vertical-align: middle;\n",
       "    }\n",
       "\n",
       "    .dataframe tbody tr th {\n",
       "        vertical-align: top;\n",
       "    }\n",
       "\n",
       "    .dataframe thead th {\n",
       "        text-align: right;\n",
       "    }\n",
       "</style>\n",
       "<table border=\"1\" class=\"dataframe\">\n",
       "  <thead>\n",
       "    <tr style=\"text-align: right;\">\n",
       "      <th></th>\n",
       "      <th>bed</th>\n",
       "      <th>bath</th>\n",
       "      <th>acre_lot</th>\n",
       "      <th>zip_code</th>\n",
       "      <th>house_size</th>\n",
       "      <th>price</th>\n",
       "    </tr>\n",
       "  </thead>\n",
       "  <tbody>\n",
       "    <tr>\n",
       "      <th>count</th>\n",
       "      <td>1166.000000</td>\n",
       "      <td>1166.000000</td>\n",
       "      <td>515.000000</td>\n",
       "      <td>1166.000000</td>\n",
       "      <td>1166.000000</td>\n",
       "      <td>1.166000e+03</td>\n",
       "    </tr>\n",
       "    <tr>\n",
       "      <th>mean</th>\n",
       "      <td>3.102916</td>\n",
       "      <td>2.456261</td>\n",
       "      <td>4.530718</td>\n",
       "      <td>2129.089194</td>\n",
       "      <td>1833.052316</td>\n",
       "      <td>1.680617e+06</td>\n",
       "    </tr>\n",
       "    <tr>\n",
       "      <th>std</th>\n",
       "      <td>3.139073</td>\n",
       "      <td>2.152804</td>\n",
       "      <td>101.156560</td>\n",
       "      <td>31.929385</td>\n",
       "      <td>1784.709631</td>\n",
       "      <td>1.930530e+06</td>\n",
       "    </tr>\n",
       "    <tr>\n",
       "      <th>min</th>\n",
       "      <td>1.000000</td>\n",
       "      <td>1.000000</td>\n",
       "      <td>0.010000</td>\n",
       "      <td>2108.000000</td>\n",
       "      <td>335.000000</td>\n",
       "      <td>1.150000e+05</td>\n",
       "    </tr>\n",
       "    <tr>\n",
       "      <th>25%</th>\n",
       "      <td>2.000000</td>\n",
       "      <td>1.000000</td>\n",
       "      <td>0.020000</td>\n",
       "      <td>2116.000000</td>\n",
       "      <td>905.750000</td>\n",
       "      <td>6.750000e+05</td>\n",
       "    </tr>\n",
       "    <tr>\n",
       "      <th>50%</th>\n",
       "      <td>2.000000</td>\n",
       "      <td>2.000000</td>\n",
       "      <td>0.040000</td>\n",
       "      <td>2125.000000</td>\n",
       "      <td>1300.000000</td>\n",
       "      <td>9.490000e+05</td>\n",
       "    </tr>\n",
       "    <tr>\n",
       "      <th>75%</th>\n",
       "      <td>3.000000</td>\n",
       "      <td>3.000000</td>\n",
       "      <td>0.100000</td>\n",
       "      <td>2129.000000</td>\n",
       "      <td>2216.500000</td>\n",
       "      <td>1.800000e+06</td>\n",
       "    </tr>\n",
       "    <tr>\n",
       "      <th>max</th>\n",
       "      <td>60.000000</td>\n",
       "      <td>51.000000</td>\n",
       "      <td>2295.680000</td>\n",
       "      <td>2467.000000</td>\n",
       "      <td>38442.000000</td>\n",
       "      <td>2.000000e+07</td>\n",
       "    </tr>\n",
       "  </tbody>\n",
       "</table>\n",
       "</div>"
      ],
      "text/plain": [
       "               bed         bath     acre_lot     zip_code    house_size  \\\n",
       "count  1166.000000  1166.000000   515.000000  1166.000000   1166.000000   \n",
       "mean      3.102916     2.456261     4.530718  2129.089194   1833.052316   \n",
       "std       3.139073     2.152804   101.156560    31.929385   1784.709631   \n",
       "min       1.000000     1.000000     0.010000  2108.000000    335.000000   \n",
       "25%       2.000000     1.000000     0.020000  2116.000000    905.750000   \n",
       "50%       2.000000     2.000000     0.040000  2125.000000   1300.000000   \n",
       "75%       3.000000     3.000000     0.100000  2129.000000   2216.500000   \n",
       "max      60.000000    51.000000  2295.680000  2467.000000  38442.000000   \n",
       "\n",
       "              price  \n",
       "count  1.166000e+03  \n",
       "mean   1.680617e+06  \n",
       "std    1.930530e+06  \n",
       "min    1.150000e+05  \n",
       "25%    6.750000e+05  \n",
       "50%    9.490000e+05  \n",
       "75%    1.800000e+06  \n",
       "max    2.000000e+07  "
      ]
     },
     "execution_count": 18,
     "metadata": {},
     "output_type": "execute_result"
    }
   ],
   "source": [
    "df.describe()"
   ]
  },
  {
   "cell_type": "code",
   "execution_count": 19,
   "id": "2db24e43-1d92-4410-88b7-58748687a639",
   "metadata": {},
   "outputs": [
    {
     "data": {
      "image/png": "[encoded data removed]",
      "text/plain": [
       "<Figure size 640x480 with 16 Axes>"
      ]
     },
     "metadata": {},
     "output_type": "display_data"
    }
   ],
   "source": [
    "pd.plotting.scatter_matrix(df[['bed', 'bath', 'price', 'house_size']]) \n",
    "plt.show()"
   ]
  },
  {
   "cell_type": "code",
   "execution_count": 20,
   "id": "b3826f1e-90cd-495b-a8df-aaf674bb9e4b",
   "metadata": {},
   "outputs": [],
   "source": [
    "# Credit to the Kaggle user Ghifari Kusuma for this code block.\n",
    "# https://www.kaggle.com/code/masghiff/predicting-housing-prices-eda-ml\n",
    "\n",
    "def drop_outliers(df, cols):\n",
    "    Q1 = df[cols].quantile(0.25)\n",
    "    Q3 = df[cols].quantile(0.75)\n",
    "    IQR = Q3 - Q1\n",
    "\n",
    "    return df[~((df[cols] < (Q1 - 1.5 * IQR)) | (df[cols] > (Q3 + 1.5 * IQR))).any(axis=1)]\n",
    "\n",
    "df = drop_outliers(df, ['house_size'])"
   ]
  },
  {
   "cell_type": "code",
   "execution_count": 21,
   "id": "00b85134-6e92-4592-a638-9efe6a69a555",
   "metadata": {},
   "outputs": [
    {
     "data": {
      "image/png": "[encoded data removed]",
      "text/plain": [
       "<Figure size 640x480 with 16 Axes>"
      ]
     },
     "metadata": {},
     "output_type": "display_data"
    }
   ],
   "source": [
    "pd.plotting.scatter_matrix(df[['bed', 'bath', 'price', 'house_size']]) \n",
    "plt.show()"
   ]
  },
  {
   "cell_type": "markdown",
   "id": "50791464-1c3e-4451-8c4f-798bf24f7400",
   "metadata": {},
   "source": [
    "## 2 Model construction\n",
    "\n",
    "Trial-and-error shows that dropping the extreme values results in worse model performance. This implies that exceptional values encode important information about the Boston housing market. Thus, I include them in the training data."
   ]
  },
  {
   "cell_type": "code",
   "execution_count": 22,
   "id": "28ca3632-eec5-4a7c-807b-a0f452b01c47",
   "metadata": {},
   "outputs": [],
   "source": [
    "from sklearn.model_selection import train_test_split\n",
    "\n",
    "X = df[['bed', 'bath', 'house_size']]\n",
    "y = df['price']\n",
    "\n",
    "X_train, X_test, y_train, y_test = train_test_split(X, y, test_size=0.2, random_state=0)"
   ]
  },
  {
   "cell_type": "code",
   "execution_count": 23,
   "id": "af198b52-76a2-4166-b88e-44791af13233",
   "metadata": {},
   "outputs": [],
   "source": [
    "from sklearn.metrics import mean_absolute_error, mean_squared_error, r2_score\n",
    "\n",
    "def print_metrics(y_test, y_pred):\n",
    "    print('MSE:', mean_squared_error(y_test, y_pred))\n",
    "    print('RMSE:', mean_squared_error(y_test, y_pred, squared=False))\n",
    "    print('MAE:', mean_absolute_error(y_test, y_pred))\n",
    "    print('R^2:', r2_score(y_test, y_pred))"
   ]
  },
  {
   "cell_type": "markdown",
   "id": "c3d3c086-cf4f-4d86-b225-f060f8bc3208",
   "metadata": {},
   "source": [
    "### 2.1 Ordinary Least Squares"
   ]
  },
  {
   "cell_type": "code",
   "execution_count": 24,
   "id": "31212bf5-bc5d-4ca1-8873-84de345b81f4",
   "metadata": {},
   "outputs": [
    {
     "name": "stdout",
     "output_type": "stream",
     "text": [
      "Training Data:\n",
      "MSE: 816634322195.527\n",
      "RMSE: 903678.2182810024\n",
      "MAE: 591504.159360031\n",
      "R^2: 0.6185548072423969\n",
      "\n",
      "Testing Data:\n",
      "MSE: 738317729958.2246\n",
      "RMSE: 859254.1707540468\n",
      "MAE: 596028.0599713444\n",
      "R^2: 0.5373774045429143\n"
     ]
    }
   ],
   "source": [
    "from sklearn.linear_model import LinearRegression\n",
    "\n",
    "model_ols = LinearRegression().fit(X_train, y_train)\n",
    "y_pred = model_ols.predict(X_test)\n",
    "\n",
    "print('Training Data:')\n",
    "print_metrics(y_train, model_ols.predict(X_train))\n",
    "print()\n",
    "print('Testing Data:')\n",
    "print_metrics(y_test, y_pred)"
   ]
  },
  {
   "cell_type": "code",
   "execution_count": 25,
   "id": "52cc0138-9ca2-4ed0-bfb1-f7a00290acd9",
   "metadata": {},
   "outputs": [
    {
     "name": "stdout",
     "output_type": "stream",
     "text": [
      "Intercept: -191172.82155824266\n",
      "Coefficients: [-583643.79594824  386621.01283381    1540.83763011]\n"
     ]
    }
   ],
   "source": [
    "coefficients = model_ols.coef_\n",
    "intercept = model_ols.intercept_\n",
    "\n",
    "print(\"Intercept:\", intercept)\n",
    "print(\"Coefficients:\", coefficients)"
   ]
  },
  {
   "cell_type": "code",
   "execution_count": 26,
   "id": "0706113d-979f-4e17-a3fe-c81b89bf4b96",
   "metadata": {},
   "outputs": [
    {
     "data": {
      "image/png": "[encoded data removed]",
      "text/plain": [
       "<Figure size 800x600 with 1 Axes>"
      ]
     },
     "metadata": {},
     "output_type": "display_data"
    }
   ],
   "source": [
    "y_test_standardized = (y_test - np.mean(y_test)) / np.std(y_test)\n",
    "y_pred_standardized = (y_pred - np.mean(y_pred)) / np.std(y_pred)\n",
    "\n",
    "# Create normal probability plot\n",
    "plt.figure(figsize=(8, 6))\n",
    "stats.probplot(y_test_standardized - y_pred_standardized, dist=\"norm\", plot=plt)\n",
    "plt.title('Normal Probability Plot of Residuals')\n",
    "plt.xlabel('Theoretical Quantiles')\n",
    "plt.ylabel('Ordered Values')\n",
    "plt.show()"
   ]
  },
  {
   "cell_type": "code",
   "execution_count": 27,
   "id": "2a29a6e8-30e7-4d90-a68b-2e351e2e74fc",
   "metadata": {},
   "outputs": [
    {
     "data": {
      "image/png": "[encoded data removed]",
      "text/plain": [
       "<Figure size 800x600 with 1 Axes>"
      ]
     },
     "metadata": {},
     "output_type": "display_data"
    }
   ],
   "source": [
    "residuals = y_test - y_pred\n",
    "plt.figure(figsize=(8, 6))\n",
    "plt.scatter(y_pred, residuals, alpha=0.5)\n",
    "plt.axhline(y=0, color='r', linestyle='--')\n",
    "plt.title('Residual Plot')\n",
    "plt.xlabel('Predicted Values')\n",
    "plt.ylabel('Residuals')\n",
    "plt.show()"
   ]
  },
  {
   "cell_type": "markdown",
   "id": "5592a5e1-230b-4141-99d3-c2542bc5fee6",
   "metadata": {},
   "source": [
    "### 2.2 Extra Trees"
   ]
  },
  {
   "cell_type": "code",
   "execution_count": 28,
   "id": "33f960c3-4280-4103-a057-b4ee54fbf5e3",
   "metadata": {},
   "outputs": [
    {
     "name": "stdout",
     "output_type": "stream",
     "text": [
      "Training Data:\n",
      "MSE: 25553140601.242928\n",
      "RMSE: 159853.497306887\n",
      "MAE: 38233.94227828746\n",
      "R^2: 0.9880642750650034\n",
      "\n",
      "Testing Data:\n",
      "MSE: 1134117292218.946\n",
      "RMSE: 1064949.4317661033\n",
      "MAE: 633401.7575190259\n",
      "R^2: 0.2893733090917677\n"
     ]
    }
   ],
   "source": [
    "from sklearn.ensemble import ExtraTreesRegressor\n",
    "\n",
    "model_ET = ExtraTreesRegressor().fit(X_train, y_train)\n",
    "y_pred = model_ET.predict(X_test)\n",
    "\n",
    "print('Training Data:')\n",
    "print_metrics(y_train, model_ET.predict(X_train))\n",
    "print()\n",
    "print('Testing Data:')\n",
    "print_metrics(y_test, y_pred)"
   ]
  },
  {
   "cell_type": "markdown",
   "id": "91485611-765f-4e6b-9b9a-a5475550b75d",
   "metadata": {},
   "source": [
    "### 2.3 Decision Tree"
   ]
  },
  {
   "cell_type": "code",
   "execution_count": 29,
   "id": "f72c16c0-b21a-4ff7-85a0-1b41cdd73cdc",
   "metadata": {},
   "outputs": [
    {
     "name": "stdout",
     "output_type": "stream",
     "text": [
      "Training Data:\n",
      "MSE: 25553140027.84843\n",
      "RMSE: 159853.49551338697\n",
      "MAE: 38232.79548929663\n",
      "R^2: 0.9880642753328326\n",
      "\n",
      "Testing Data:\n",
      "MSE: 1299664563162.3953\n",
      "RMSE: 1140028.3168248038\n",
      "MAE: 628257.8523592086\n",
      "R^2: 0.18564302462598736\n"
     ]
    }
   ],
   "source": [
    "from sklearn.tree import DecisionTreeRegressor\n",
    "\n",
    "model_DT = DecisionTreeRegressor(random_state=0).fit(X_train, y_train)\n",
    "y_pred = model_DT.predict(X_test)\n",
    "\n",
    "print('Training Data:')\n",
    "print_metrics(y_train, model_DT.predict(X_train))\n",
    "print()\n",
    "print('Testing Data:')\n",
    "print_metrics(y_test, y_pred)"
   ]
  },
  {
   "cell_type": "markdown",
   "id": "de02514e-fef3-4339-b880-20f273ff83e8",
   "metadata": {},
   "source": [
    "### 2.4 Random Forest"
   ]
  },
  {
   "cell_type": "code",
   "execution_count": 30,
   "id": "32b85bf5-da47-463b-85f2-cb1a4ab4718f",
   "metadata": {},
   "outputs": [
    {
     "name": "stdout",
     "output_type": "stream",
     "text": [
      "Training Data:\n",
      "MSE: 114208141967.62991\n",
      "RMSE: 337946.951410469\n",
      "MAE: 207819.086564932\n",
      "R^2: 0.9466540340721808\n",
      "\n",
      "Testing Data:\n",
      "MSE: 955280122146.0988\n",
      "RMSE: 977384.3267344217\n",
      "MAE: 579192.0121338789\n",
      "R^2: 0.40143091305582557\n"
     ]
    }
   ],
   "source": [
    "from sklearn.ensemble import RandomForestRegressor\n",
    "\n",
    "# Trial and error shows 70 estimators is sufficient\n",
    "model_RF = RandomForestRegressor(n_estimators=67, random_state=0).fit(X_train, y_train)\n",
    "y_pred = model_RF.predict(X_test)\n",
    "\n",
    "print('Training Data:')\n",
    "print_metrics(y_train, model_RF.predict(X_train))\n",
    "print()\n",
    "print('Testing Data:')\n",
    "print_metrics(y_test, y_pred)"
   ]
  },
  {
   "cell_type": "markdown",
   "id": "d40dbb3a-9854-493d-964c-3d08cf25fc81",
   "metadata": {},
   "source": [
    "### 2.5 KNN"
   ]
  },
  {
   "cell_type": "code",
   "execution_count": 31,
   "id": "893b8784-087f-4e21-af99-0db475c074cd",
   "metadata": {},
   "outputs": [
    {
     "name": "stdout",
     "output_type": "stream",
     "text": [
      "Training Data:\n",
      "MSE: 1009372907580.8142\n",
      "RMSE: 1004675.523530266\n",
      "MAE: 607741.3084862386\n",
      "R^2: 0.528527723080098\n",
      "\n",
      "Testing Data:\n",
      "MSE: 1461376147674.759\n",
      "RMSE: 1208873.9171951553\n",
      "MAE: 762842.2821917809\n",
      "R^2: 0.08431614338365201\n"
     ]
    }
   ],
   "source": [
    "from sklearn.neighbors import KNeighborsRegressor\n",
    "\n",
    "model_KN = KNeighborsRegressor().fit(X_train, y_train)\n",
    "y_pred = model_KN.predict(X_test)\n",
    "\n",
    "print('Training Data:')\n",
    "print_metrics(y_train, model_KN.predict(X_train))\n",
    "print()\n",
    "print('Testing Data:')\n",
    "print_metrics(y_test, y_pred)"
   ]
  },
  {
   "cell_type": "markdown",
   "id": "e17db243-3228-4171-8335-f5e80e5bf9d9",
   "metadata": {},
   "source": [
    "### 2.6 KNN with scaling"
   ]
  },
  {
   "cell_type": "code",
   "execution_count": 32,
   "id": "5daa71d5-724f-4ef9-84aa-db3f0813a373",
   "metadata": {},
   "outputs": [
    {
     "name": "stdout",
     "output_type": "stream",
     "text": [
      "Training Data:\n",
      "MSE: 0.253058264650033\n",
      "RMSE: 0.5030489684414758\n",
      "MAE: 0.2990262179465669\n",
      "R^2: 0.7598152959978083\n",
      "\n",
      "Testing Data:\n",
      "MSE: 0.4471670774939505\n",
      "RMSE: 0.6687055237501411\n",
      "MAE: 0.39177108851190945\n",
      "R^2: 0.4306574161887644\n"
     ]
    }
   ],
   "source": [
    "from sklearn.preprocessing import StandardScaler\n",
    "\n",
    "df['house_size'] = StandardScaler().fit_transform(df['house_size'].values.reshape(len(df), 1))\n",
    "df['price'] = StandardScaler().fit_transform(df['price'].values.reshape(len(df), 1))\n",
    "df['bed'] = StandardScaler().fit_transform(df['bed'].values.reshape(len(df), 1))\n",
    "df['bath'] = StandardScaler().fit_transform(df['bath'].values.reshape(len(df), 1))\n",
    "\n",
    "X = df[['bed', 'bath', 'house_size']]\n",
    "y = df['price']\n",
    "\n",
    "X_train, X_test, y_train, y_test = train_test_split(X, y, test_size=0.2, random_state=0)\n",
    "\n",
    "model_KN = KNeighborsRegressor().fit(X_train, y_train)\n",
    "y_pred = model_KN.predict(X_test)\n",
    "\n",
    "print('Training Data:')\n",
    "print_metrics(y_train, model_KN.predict(X_train))\n",
    "print()\n",
    "print('Testing Data:')\n",
    "print_metrics(y_test, y_pred)"
   ]
  }
 ],
 "metadata": {
  "kernelspec": {
   "display_name": "Python 3 (ipykernel)",
   "language": "python",
   "name": "python3"
  },
  "language_info": {
   "codemirror_mode": {
    "name": "ipython",
    "version": 3
   },
   "file_extension": ".py",
   "mimetype": "text/x-python",
   "name": "python",
   "nbconvert_exporter": "python",
   "pygments_lexer": "ipython3",
   "version": "3.11.7"
  }
 },
 "nbformat": 4,
 "nbformat_minor": 5
}
